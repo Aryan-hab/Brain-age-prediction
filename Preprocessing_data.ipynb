{
  "nbformat": 4,
  "nbformat_minor": 0,
  "metadata": {
    "colab": {
      "name": "Preprocessing data.ipynb",
      "provenance": [],
      "collapsed_sections": [],
      "authorship_tag": "ABX9TyPgIv4a/3pT/duC+FNjTMfs",
      "include_colab_link": true
    },
    "kernelspec": {
      "name": "python3",
      "display_name": "Python 3"
    }
  },
  "cells": [
    {
      "cell_type": "markdown",
      "metadata": {
        "id": "view-in-github",
        "colab_type": "text"
      },
      "source": [
        "<a href=\"https://colab.research.google.com/github/mehrdad117/Brain-Age-prediction-/blob/main/Preprocessing_data.ipynb\" target=\"_parent\"><img src=\"https://colab.research.google.com/assets/colab-badge.svg\" alt=\"Open In Colab\"/></a>"
      ]
    },
    {
      "cell_type": "code",
      "metadata": {
        "id": "8ffjMNqm5UN9"
      },
      "source": [
        "!pip install tpot\n",
        "from sklearn.metrics import accuracy_score\n",
        "\n",
        "from sklearn.datasets import make_regression\n",
        "from sklearn.model_selection import train_test_split\n",
        "from sklearn.metrics import r2_score\n",
        "from sklearn.datasets import load_boston\n",
        " \n",
        " \n",
        "import pandas as pd #this is how we usually import pandas\n",
        "import numpy as np #this is how we usually import numpy\n",
        " \n",
        "import matplotlib #only needed to determine Matplotlib version number\n",
        "#import tables # pytables is needed to read and write hdf5 files\n",
        "#import openpyxl # is used to read and write MS Excel files\n",
        "import scipy.stats as stats\n",
        "from sklearn.model_selection import train_test_split\n",
        "from sklearn.feature_selection import VarianceThreshold\n",
        "from sklearn.preprocessing import StandardScaler\n",
        "from sklearn.linear_model import LogisticRegression\n",
        "from sklearn.ensemble import RandomForestClassifier\n",
        "from sklearn.metrics import roc_auc_score\n",
        " \n",
        "import xgboost\n",
        " \n",
        "import warnings\n",
        "warnings.filterwarnings('ignore')"
      ],
      "execution_count": null,
      "outputs": []
    },
    {
      "cell_type": "markdown",
      "metadata": {
        "id": "i_gkjB15EDRo"
      },
      "source": [
        "imports"
      ]
    },
    {
      "cell_type": "code",
      "metadata": {
        "id": "tE7j6ToRD-4p"
      },
      "source": [
        "data = pd.read_csv('/content/drive/MyDrive/Finalfinal.csv')\n",
        "\n",
        "data = data.drop('SubjectID' , axis=1)\n",
        "\n",
        "\n",
        "#if data contains sex feature\n",
        "#size_mapping = {\n",
        "     #   #   'M': 0,\n",
        "       #    'F': 1,\n",
        "        #         }\n",
        "#data['Sex'] = data['Sex'].map(size_mapping)\n",
        "\n",
        "\n",
        "features_all = data.drop('Age', axis=1)\n",
        "target = data['Age']\n",
        "target = target.values.reshape(-1,1)"
      ],
      "execution_count": null,
      "outputs": []
    },
    {
      "cell_type": "code",
      "metadata": {
        "id": "l5TvzyFvEHGa"
      },
      "source": [
        "features_all.shape , target.shape"
      ],
      "execution_count": null,
      "outputs": []
    },
    {
      "cell_type": "markdown",
      "metadata": {
        "id": "cUCXZnggEJz7"
      },
      "source": [
        "# **split**"
      ]
    },
    {
      "cell_type": "code",
      "metadata": {
        "id": "mJtOCqmSEHt6"
      },
      "source": [
        "X_train, X_test, y_train, y_test = train_test_split(features_all, target,\n",
        "                                                    train_size=0.9, test_size=0.1, random_state=42)"
      ],
      "execution_count": null,
      "outputs": []
    },
    {
      "cell_type": "markdown",
      "metadata": {
        "id": "CYWuNkCy6D8U"
      },
      "source": [
        "**standardization**"
      ]
    },
    {
      "cell_type": "code",
      "metadata": {
        "id": "xHaCSE3c53HJ"
      },
      "source": [
        "#standardization -1 1\n",
        "\n",
        "from sklearn.preprocessing import StandardScaler\n",
        "\n",
        "ss_X = StandardScaler()\n",
        "ss_y = StandardScaler()\n",
        "\n",
        "X_train = ss_X.fit_transform(X_train)\n",
        "X_test = ss_X.transform(X_test)\n",
        "y_train = ss_y.fit_transform(y_train)\n",
        "y_test = ss_y.transform(y_test)"
      ],
      "execution_count": null,
      "outputs": []
    },
    {
      "cell_type": "markdown",
      "metadata": {
        "id": "jon1WKwJ6GnS"
      },
      "source": [
        "**Minmax normalization**(data should be **reshaped** )"
      ]
    },
    {
      "cell_type": "code",
      "metadata": {
        "id": "AnzX9qZJ54AY"
      },
      "source": [
        "#minmax normalization 0 1\n",
        "\n",
        "from sklearn.preprocessing import MinMaxScaler\n",
        "ss_X = MinMaxScaler()\n",
        "ss_y = MinMaxScaler()\n",
        "\n",
        "X_train = ss_X.fit_transform(X_train)\n",
        "X_test = ss_X.transform(X_test)\n",
        "y_train = ss_y.fit_transform(y_train)\n",
        "y_test = ss_y.transform(y_test)"
      ],
      "execution_count": null,
      "outputs": []
    },
    {
      "cell_type": "code",
      "metadata": {
        "id": "Ess-q8gnBApk"
      },
      "source": [
        "# test MAE for scaled data\n",
        "\n",
        "results = model.predict(X_test)\n",
        "\n",
        "mean_absolute_error(ss_y.inverse_transform(y_test), ss_y.inverse_transform(results))\n"
      ],
      "execution_count": null,
      "outputs": []
    },
    {
      "cell_type": "code",
      "metadata": {
        "id": "fPX7Cim9BCKp"
      },
      "source": [
        "# predicted age \n",
        "ss_y.inverse_transform(y_test)"
      ],
      "execution_count": null,
      "outputs": []
    },
    {
      "cell_type": "markdown",
      "metadata": {
        "id": "fHP0DWw3BKTs"
      },
      "source": [
        " **PCA**\n"
      ]
    },
    {
      "cell_type": "code",
      "metadata": {
        "id": "UySqVKB2BLEu"
      },
      "source": [
        "from sklearn.preprocessing import MinMaxScaler\n",
        "from sklearn.preprocessing import StandardScaler\n",
        "\n",
        "\n",
        "scaler=StandardScaler()\n",
        "scaler.fit(features_all)\n",
        "\n",
        "\n",
        "scaled_data=scaler.transform(features_all)\n",
        "\n",
        "scaled_data\n",
        "\n"
      ],
      "execution_count": null,
      "outputs": []
    },
    {
      "cell_type": "code",
      "metadata": {
        "id": "O8zfq1B_BOf9"
      },
      "source": [
        "from sklearn.decomposition import PCA\n",
        "\n",
        "\n",
        "pca=PCA(n_components=37)\n",
        "\n",
        "pca.fit(scaled_data)\n",
        "\n",
        "x_pca=pca.transform(scaled_data)\n",
        "\n",
        "scaled_data.shape\n",
        "\n",
        "x_pca.shape"
      ],
      "execution_count": null,
      "outputs": []
    },
    {
      "cell_type": "code",
      "metadata": {
        "id": "lLTlyTyuBSAG"
      },
      "source": [
        "import matplotlib.pyplot as plt\n",
        "import numpy as np\n",
        "import pandas as pd\n",
        "%matplotlib inline\n",
        "\n",
        "\n",
        "\n",
        "plt.figure(figsize=(8,6))\n",
        "plt.scatter(x_pca[:,0],x_pca[:,1],target)\n",
        "plt.xlabel('First principle component')\n",
        "plt.ylabel('Second principle component')"
      ],
      "execution_count": null,
      "outputs": []
    },
    {
      "cell_type": "code",
      "metadata": {
        "id": "z62jfB5bBTov"
      },
      "source": [
        "\n",
        "\n",
        "\n",
        "X_new = pca.inverse_transform(x_pca)\n",
        "plt.scatter(scaled_data[:, 0], scaled_data[:, 1], alpha=0.2)\n",
        "plt.scatter(X_new[:, 0], X_new[:, 1], alpha=0.8)\n",
        "plt.axis('equal');\n",
        "\n"
      ],
      "execution_count": null,
      "outputs": []
    },
    {
      "cell_type": "markdown",
      "metadata": {
        "id": "Qv-GsiSdBWEj"
      },
      "source": [
        "Cumulative variance "
      ]
    },
    {
      "cell_type": "code",
      "metadata": {
        "id": "iszYXudPBVDA"
      },
      "source": [
        "import numpy as np\n",
        "from sklearn.decomposition import PCA\n",
        "import pandas as pd\n",
        "import matplotlib.pyplot as plt\n",
        "from sklearn.preprocessing import scale\n",
        "%matplotlib inline\n",
        "\n",
        "var= pca.explained_variance_ratio_\n",
        "\n",
        "var1=np.cumsum(np.round(pca.explained_variance_ratio_, decimals=4)*100)\n",
        "plt.plot(var1)\n",
        "plt.plot([0,60], [90,90])\n",
        "plt.plot([36,36] , [0,90])"
      ],
      "execution_count": null,
      "outputs": []
    },
    {
      "cell_type": "code",
      "metadata": {
        "id": "-bRtLH0gCp2N"
      },
      "source": [
        "#Looking at above plot I'm taking 37 variables\n",
        "pca = PCA(n_components=37)\n",
        "pca.fit(scaled_data)\n",
        "X1=pca.fit_transform(scaled_data)\n",
        "\n",
        "print(X1)"
      ],
      "execution_count": null,
      "outputs": []
    }
  ]
}