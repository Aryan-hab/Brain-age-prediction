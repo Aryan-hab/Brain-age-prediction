{
  "nbformat": 4,
  "nbformat_minor": 0,
  "metadata": {
    "colab": {
      "name": "feature selection.ipynb",
      "provenance": []
    },
    "kernelspec": {
      "name": "python3",
      "display_name": "Python 3"
    }
  },
  "cells": [
    {
      "cell_type": "code",
      "metadata": {
        "cellView": "code",
        "id": "fV8mpuY2fbL_"
      },
      "source": [
        "!pip install tpot\n",
        "from sklearn.metrics import accuracy_score\n",
        "\n",
        "from sklearn.datasets import make_regression\n",
        "from sklearn.model_selection import train_test_split\n",
        "from sklearn.metrics import r2_score\n",
        "from sklearn.datasets import load_boston\n",
        " \n",
        " \n",
        "import pandas as pd #this is how we usually import pandas\n",
        "import numpy as np #this is how we usually import numpy\n",
        " \n",
        "import matplotlib #only needed to determine Matplotlib version number\n",
        "#import tables # pytables is needed to read and write hdf5 files\n",
        "#import openpyxl # is used to read and write MS Excel files\n",
        "import scipy.stats as stats\n",
        "from sklearn.model_selection import train_test_split\n",
        "from sklearn.feature_selection import VarianceThreshold\n",
        "from sklearn.preprocessing import StandardScaler\n",
        "from sklearn.linear_model import LogisticRegression\n",
        "from sklearn.ensemble import RandomForestClassifier\n",
        "from sklearn.metrics import roc_auc_score\n",
        " \n",
        "import xgboost\n",
        " \n",
        "import warnings\n",
        "warnings.filterwarnings('ignore')"
      ],
      "execution_count": null,
      "outputs": []
    },
    {
      "cell_type": "markdown",
      "metadata": {
        "id": "yYHhtAzefvHl"
      },
      "source": [
        "imports"
      ]
    },
    {
      "cell_type": "code",
      "metadata": {
        "id": "DPrgbjAwfuyc"
      },
      "source": [
        "\n",
        "data = pd.read_csv('/content/drive/MyDrive/Finalfinal.csv')\n",
        "\n",
        "data = data.drop('SubjectID' , axis=1)\n",
        "\n",
        "\n",
        "#if data contains sex feature\n",
        "#size_mapping = {\n",
        "     #   #   'M': 0,\n",
        "       #    'F': 1,\n",
        "        #         }\n",
        "#data['Sex'] = data['Sex'].map(size_mapping)\n",
        "\n",
        "\n",
        "features_all = data.drop('Age', axis=1)\n",
        "target = data['Age']\n",
        "target = target.values.reshape(-1,1)"
      ],
      "execution_count": null,
      "outputs": []
    },
    {
      "cell_type": "code",
      "metadata": {
        "id": "E-0xnz4fhQ4p"
      },
      "source": [
        "features_all.shape , target.shape"
      ],
      "execution_count": null,
      "outputs": []
    },
    {
      "cell_type": "markdown",
      "metadata": {
        "id": "93xbc376hXb6"
      },
      "source": [
        "# **split**"
      ]
    },
    {
      "cell_type": "code",
      "metadata": {
        "id": "mrFiMj6ihZzF"
      },
      "source": [
        "X_train, X_test, y_train, y_test = train_test_split(features_all, target,\n",
        "                                                    train_size=0.9, test_size=0.1, random_state=42)"
      ],
      "execution_count": null,
      "outputs": []
    },
    {
      "cell_type": "markdown",
      "metadata": {
        "id": "9bBT0AeOhlYP"
      },
      "source": [
        "# **feature selection**"
      ]
    },
    {
      "cell_type": "markdown",
      "metadata": {
        "id": "SwJ_33qoiJhs"
      },
      "source": [
        "#filter methods"
      ]
    },
    {
      "cell_type": "markdown",
      "metadata": {
        "id": "jFfvwYJdiPJD"
      },
      "source": [
        " Remove Constant Features"
      ]
    },
    {
      "cell_type": "code",
      "metadata": {
        "id": "hor-bC9vhahB"
      },
      "source": [
        "# remove constant features\n",
        "\n",
        "\n",
        "constant_features = [feat for feat in X_train.columns if X_train[feat].std() == 0]\n",
        "\n",
        " \n",
        "X_train.drop(labels=constant_features, axis=1, inplace=True)\n",
        "X_test.drop(labels=constant_features, axis=1, inplace=True)\n",
        " \n",
        " \n",
        "X_train.shape, X_test.shape"
      ],
      "execution_count": null,
      "outputs": []
    },
    {
      "cell_type": "markdown",
      "metadata": {
        "id": "UyemsmTOlMNJ"
      },
      "source": [
        "Remove quasi-constant features"
      ]
    },
    {
      "cell_type": "code",
      "metadata": {
        "id": "waeEnEsOlMkk"
      },
      "source": [
        "# Remove quasi-constant features\n",
        "sel = VarianceThreshold(threshold=0.01)  # 0.1 indicates 99% of observations approximately\n",
        "sel.fit(X_train)  # fit finds the features with low variance\n",
        "sum(sel.get_support()) # how many not quasi-constant?\n",
        "\n",
        "\n",
        "# Get the remaining features\n",
        "features_to_keep = X_train.columns[sel.get_support()]\n",
        "\n",
        "\n",
        "# Remove the constant features\n",
        "X_train = sel.transform(X_train)\n",
        "X_test = sel.transform(X_test)\n",
        " \n",
        "\n",
        "\n",
        "# Transform the arrays back to Dataframes\n",
        "X_train= pd.DataFrame(X_train)\n",
        "X_train.columns = features_to_keep\n",
        " \n",
        "X_test= pd.DataFrame(X_test)\n",
        "X_test.columns = features_to_keep\n",
        "\n",
        "X_train.shape, X_test.shape"
      ],
      "execution_count": null,
      "outputs": []
    },
    {
      "cell_type": "markdown",
      "metadata": {
        "id": "F4TIQo3IitWS"
      },
      "source": [
        "Remove duplicated features"
      ]
    },
    {
      "cell_type": "code",
      "metadata": {
        "id": "KKrm2weYhyaw"
      },
      "source": [
        "# Check for duplicated features in the training set\n",
        "duplicated_feat = []\n",
        "for i in range(0, len(X_train.columns)):\n",
        "    if i % 10 == 0:  # this helps me understand how the loop is going\n",
        "        print(i)\n",
        " \n",
        "    col_1 = X_train.columns[i]\n",
        " \n",
        "    for col_2 in X_train.columns[i + 1:]:\n",
        "        if X_train[col_1].equals(X_train[col_2]):\n",
        "            duplicated_feat.append(col_2)\n",
        "            \n",
        "len(duplicated_feat)"
      ],
      "execution_count": null,
      "outputs": []
    },
    {
      "cell_type": "code",
      "metadata": {
        "id": "uHUj5ElLiIp5"
      },
      "source": [
        "# Remove duplicated features\n",
        "\n",
        "\n",
        "X_train.drop(labels=duplicated_feat, axis=1, inplace=True)\n",
        "X_test.drop(labels=duplicated_feat, axis=1, inplace=True)\n",
        "\n",
        "\n",
        "X_train.shape, X_test.shape\n",
        "# Keep a copy of the dataset except constant and duplicated variables to measure the performance of machine learning models\n",
        "X_train_basic_filter = X_train.copy()\n",
        "X_test_basic_filter = X_test.copy()\n",
        "\n",
        "X_train.shape, X_test.shape"
      ],
      "execution_count": null,
      "outputs": []
    },
    {
      "cell_type": "markdown",
      "metadata": {
        "id": "7Rcvt9ELixJ9"
      },
      "source": [
        "Remove intercorrelated features"
      ]
    },
    {
      "cell_type": "code",
      "metadata": {
        "id": "rcdJ27dfilOM"
      },
      "source": [
        "# Brute Force Method to find Correlation between features\n",
        "def correlation(data, threshold=None):\n",
        "    # Set of all names of correlated columns\n",
        "    col_corr = set()\n",
        "    corr_mat = data.corr(method='spearman')\n",
        "    for i in range(len(corr_mat.columns)):\n",
        "        for j in range(i):\n",
        "            if (abs(corr_mat.iloc[i,j]) > threshold):\n",
        "                colname = corr_mat.columns[i]\n",
        "                col_corr.add(colname)\n",
        "    return col_corr"
      ],
      "execution_count": null,
      "outputs": []
    },
    {
      "cell_type": "code",
      "metadata": {
        "id": "tFGqMkekinWR"
      },
      "source": [
        "#feel free to change the threshold number \n",
        "correlated_features = correlation(data=X_train, threshold=0.7)\n",
        "len(set(correlated_features))"
      ],
      "execution_count": null,
      "outputs": []
    },
    {
      "cell_type": "code",
      "metadata": {
        "id": "HYtXCTbTio8l"
      },
      "source": [
        "X_train.drop(labels=correlated_features, axis=1, inplace=True)\n",
        "X_test.drop(labels=correlated_features, axis=1, inplace=True)\n",
        "\n",
        "X_train.shape, X_test.shape"
      ],
      "execution_count": null,
      "outputs": []
    },
    {
      "cell_type": "markdown",
      "metadata": {
        "id": "F298dl7jmACe"
      },
      "source": [
        "#Wrapper methods "
      ]
    },
    {
      "cell_type": "markdown",
      "metadata": {
        "id": "g9Y-rU9QmjlY"
      },
      "source": [
        "\n",
        "1.   Sequential Forward Selection\n",
        "\n",
        "2.   Sequential Backward Selection\n",
        "\n",
        "3.   Sequential Forward Floating Selection\n",
        "\n",
        "4. Sequential Backward Floating Selection \n",
        "\n",
        "for more details refer to: [mlxtend](http://rasbt.github.io/mlxtend/user_guide/feature_selection/SequentialFeatureSelector/)\n"
      ]
    },
    {
      "cell_type": "code",
      "metadata": {
        "id": "2tJGIJx-mAWY"
      },
      "source": [
        "# Sequential Forward Selection\n",
        "sfs = SFS(knn, \n",
        "          k_features=3, \n",
        "          forward=True, \n",
        "          floating=False, \n",
        "          scoring='accuracy',\n",
        "          cv=4,\n",
        "          n_jobs=-1)\n",
        "sfs = sfs.fit(X, y)\n",
        "\n",
        "print('\\nSequential Forward Selection (k=3):')\n",
        "print(sfs.k_feature_idx_)\n",
        "print('CV Score:')\n",
        "print(sfs.k_score_)\n",
        "\n",
        "###################################################\n",
        "\n",
        "# Sequential Backward Selection\n",
        "sbs = SFS(knn, \n",
        "          k_features=3, \n",
        "          forward=False, \n",
        "          floating=False, \n",
        "          scoring='accuracy',\n",
        "          cv=4,\n",
        "          n_jobs=-1)\n",
        "sbs = sbs.fit(X, y)\n",
        "\n",
        "print('\\nSequential Backward Selection (k=3):')\n",
        "print(sbs.k_feature_idx_)\n",
        "print('CV Score:')\n",
        "print(sbs.k_score_)\n",
        "\n",
        "###################################################\n",
        "\n",
        "# Sequential Forward Floating Selection\n",
        "sffs = SFS(knn, \n",
        "           k_features=3, \n",
        "           forward=True, \n",
        "           floating=True, \n",
        "           scoring='accuracy',\n",
        "           cv=4,\n",
        "           n_jobs=-1)\n",
        "sffs = sffs.fit(X, y)\n",
        "\n",
        "print('\\nSequential Forward Floating Selection (k=3):')\n",
        "print(sffs.k_feature_idx_)\n",
        "print('CV Score:')\n",
        "print(sffs.k_score_)\n",
        "\n",
        "###################################################\n",
        "\n",
        "# Sequential Backward Floating Selection\n",
        "sbfs = SFS(knn, \n",
        "           k_features=3, \n",
        "           forward=False, \n",
        "           floating=True, \n",
        "           scoring='accuracy',\n",
        "           cv=4,\n",
        "           n_jobs=-1)\n",
        "sbfs = sbfs.fit(X, y)\n",
        "\n",
        "print('\\nSequential Backward Floating Selection (k=3):')\n",
        "print(sbfs.k_feature_idx_)\n",
        "print('CV Score:')\n",
        "print(sbfs.k_score_)"
      ],
      "execution_count": null,
      "outputs": []
    },
    {
      "cell_type": "code",
      "metadata": {
        "id": "A3P1fVwSnsUu"
      },
      "source": [
        "# Which features?\n",
        "feat_cols = list(sfs1.k_feature_idx_)\n",
        "print(feat_cols)"
      ],
      "execution_count": null,
      "outputs": []
    },
    {
      "cell_type": "code",
      "metadata": {
        "id": "L7eHVg1WnxNG"
      },
      "source": [
        "# Build full model with selected features\n",
        "\n",
        "from sklearn.metrics import mean_absolute_error as acc\n",
        "clf = model\n",
        "clf.fit(X_train[:, feat_cols], y_train)\n",
        "\n",
        "y_train_pred = clf.predict(X_train[:, feat_cols])\n",
        "print('Training accuracy on selected features: %.3f' % acc(y_train, y_train_pred))\n",
        "\n",
        "y_test_pred = clf.predict(X_test[:, feat_cols])\n",
        "print('Testing accuracy on selected features: %.3f' % acc(y_test, y_test_pred))"
      ],
      "execution_count": null,
      "outputs": []
    },
    {
      "cell_type": "code",
      "metadata": {
        "id": "lcLG9g8kn2Y_"
      },
      "source": [
        "#if data is scaled use this \n",
        "print('Training accuracy on selected features: %.3f' %acc(ss_y.inverse_transform(y_train), ss_y.inverse_transform(y_train_pred)))\n",
        "\n",
        "print('Training accuracy on selected features: %.3f' %acc(ss_y.inverse_transform(y_test), ss_y.inverse_transform(y_test_pred)))"
      ],
      "execution_count": null,
      "outputs": []
    },
    {
      "cell_type": "code",
      "metadata": {
        "id": "oyVmy_bioOT6"
      },
      "source": [
        "# Build full model on ALL features, for comparison\n",
        "\n",
        "from sklearn.metrics import mean_absolute_error as acc\n",
        "\n",
        "clf = model\n",
        "clf.fit(X_train, y_train)\n",
        "\n",
        "y_train_pred = clf.predict(X_train)\n",
        "print('Training accuracy on all features: %.3f' % acc(y_train, y_train_pred))\n",
        "\n",
        "y_test_pred = clf.predict(X_test)\n",
        "print('Testing accuracy on all features: %.3f' % acc(y_test, y_test_pred))"
      ],
      "execution_count": null,
      "outputs": []
    },
    {
      "cell_type": "code",
      "metadata": {
        "id": "KyAcYStEoQCQ"
      },
      "source": [
        "#if data is scaled use this \n",
        "print('Training accuracy on selected features: %.3f' %acc(ss_y.inverse_transform(y_train), ss_y.inverse_transform(y_train_pred)))\n",
        "\n",
        "print('Training accuracy on selected features: %.3f' %acc(ss_y.inverse_transform(y_test), ss_y.inverse_transform(y_test_pred)))"
      ],
      "execution_count": null,
      "outputs": []
    }
  ]
}
