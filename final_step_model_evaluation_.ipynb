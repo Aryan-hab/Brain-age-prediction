{
  "nbformat": 4,
  "nbformat_minor": 0,
  "metadata": {
    "colab": {
      "name": "final step/ model evaluation .ipynb",
      "provenance": [],
      "collapsed_sections": [],
      "mount_file_id": "1PRw0UhY7IwEdvTFj9qrlGfnAbAGnyILR",
      "authorship_tag": "ABX9TyPCjjRl7Te4uH+WOyoIbcSh",
      "include_colab_link": true
    },
    "kernelspec": {
      "name": "python3",
      "display_name": "Python 3"
    }
  },
  "cells": [
    {
      "cell_type": "markdown",
      "metadata": {
        "id": "view-in-github",
        "colab_type": "text"
      },
      "source": [
        "<a href=\"https://colab.research.google.com/github/mehrdad117/Brain-Age-prediction-/blob/main/final_step_model_evaluation_.ipynb\" target=\"_parent\"><img src=\"https://colab.research.google.com/assets/colab-badge.svg\" alt=\"Open In Colab\"/></a>"
      ]
    },
    {
      "cell_type": "code",
      "metadata": {
        "colab": {
          "base_uri": "https://localhost:8080/"
        },
        "id": "pp9cWWiMCJfm",
        "cellView": "form",
        "outputId": "971852a7-e955-48f2-bd4d-89ab5d776e25"
      },
      "source": [
        "#@title Default title text\n",
        "!pip install tpot\n",
        "from sklearn.metrics import accuracy_score\n",
        "\n",
        "from sklearn.datasets import make_regression\n",
        "from sklearn.model_selection import train_test_split\n",
        "from sklearn.metrics import r2_score\n",
        "from sklearn.datasets import load_boston\n",
        " \n",
        " \n",
        "import pandas as pd #this is how we usually import pandas\n",
        "import numpy as np #this is how we usually import numpy\n",
        " \n",
        "import matplotlib #only needed to determine Matplotlib version number\n",
        "#import tables # pytables is needed to read and write hdf5 files\n",
        "#import openpyxl # is used to read and write MS Excel files\n",
        "import scipy.stats as stats\n",
        "from sklearn.model_selection import train_test_split\n",
        "from sklearn.feature_selection import VarianceThreshold\n",
        "from sklearn.preprocessing import StandardScaler\n",
        "from sklearn.linear_model import LogisticRegression\n",
        "from sklearn.ensemble import RandomForestClassifier\n",
        "from sklearn.metrics import roc_auc_score\n",
        " \n",
        "import xgboost\n",
        " \n",
        "import warnings\n",
        "warnings.filterwarnings('ignore')"
      ],
      "execution_count": null,
      "outputs": [
        {
          "output_type": "stream",
          "text": [
            "Collecting tpot\n",
            "\u001b[?25l  Downloading https://files.pythonhosted.org/packages/21/55/08a98dbd10e6bd764c7a572d05d9d9eb80e3cc77d292541d097981abf35b/TPOT-0.11.6.post3-py3-none-any.whl (86kB)\n",
            "\r\u001b[K     |███▉                            | 10kB 19.0MB/s eta 0:00:01\r\u001b[K     |███████▋                        | 20kB 24.5MB/s eta 0:00:01\r\u001b[K     |███████████▍                    | 30kB 15.4MB/s eta 0:00:01\r\u001b[K     |███████████████▏                | 40kB 14.8MB/s eta 0:00:01\r\u001b[K     |███████████████████             | 51kB 16.3MB/s eta 0:00:01\r\u001b[K     |██████████████████████▉         | 61kB 15.4MB/s eta 0:00:01\r\u001b[K     |██████████████████████████▋     | 71kB 14.2MB/s eta 0:00:01\r\u001b[K     |██████████████████████████████▍ | 81kB 14.2MB/s eta 0:00:01\r\u001b[K     |████████████████████████████████| 92kB 6.3MB/s \n",
            "\u001b[?25hRequirement already satisfied: tqdm>=4.36.1 in /usr/local/lib/python3.6/dist-packages (from tpot) (4.41.1)\n",
            "Requirement already satisfied: scikit-learn>=0.22.0 in /usr/local/lib/python3.6/dist-packages (from tpot) (0.22.2.post1)\n",
            "Collecting update-checker>=0.16\n",
            "  Downloading https://files.pythonhosted.org/packages/0c/ba/8dd7fa5f0b1c6a8ac62f8f57f7e794160c1f86f31c6d0fb00f582372a3e4/update_checker-0.18.0-py3-none-any.whl\n",
            "Requirement already satisfied: scipy>=1.3.1 in /usr/local/lib/python3.6/dist-packages (from tpot) (1.4.1)\n",
            "Requirement already satisfied: pandas>=0.24.2 in /usr/local/lib/python3.6/dist-packages (from tpot) (1.1.5)\n",
            "Collecting xgboost>=1.1.0\n",
            "\u001b[?25l  Downloading https://files.pythonhosted.org/packages/2e/ce/e89ebd5f3a1982e7785f6dd16c923cf038abeda3f054914126c679385623/xgboost-1.3.0.post0-py3-none-manylinux2010_x86_64.whl (157.5MB)\n",
            "\u001b[K     |████████████████████████████████| 157.5MB 89kB/s \n",
            "\u001b[?25hRequirement already satisfied: joblib>=0.13.2 in /usr/local/lib/python3.6/dist-packages (from tpot) (0.17.0)\n",
            "Requirement already satisfied: numpy>=1.16.3 in /usr/local/lib/python3.6/dist-packages (from tpot) (1.18.5)\n",
            "Collecting deap>=1.2\n",
            "\u001b[?25l  Downloading https://files.pythonhosted.org/packages/0a/eb/2bd0a32e3ce757fb26264765abbaedd6d4d3640d90219a513aeabd08ee2b/deap-1.3.1-cp36-cp36m-manylinux2010_x86_64.whl (157kB)\n",
            "\u001b[K     |████████████████████████████████| 163kB 51.8MB/s \n",
            "\u001b[?25hCollecting stopit>=1.1.1\n",
            "  Downloading https://files.pythonhosted.org/packages/35/58/e8bb0b0fb05baf07bbac1450c447d753da65f9701f551dca79823ce15d50/stopit-1.1.2.tar.gz\n",
            "Requirement already satisfied: requests>=2.3.0 in /usr/local/lib/python3.6/dist-packages (from update-checker>=0.16->tpot) (2.23.0)\n",
            "Requirement already satisfied: pytz>=2017.2 in /usr/local/lib/python3.6/dist-packages (from pandas>=0.24.2->tpot) (2018.9)\n",
            "Requirement already satisfied: python-dateutil>=2.7.3 in /usr/local/lib/python3.6/dist-packages (from pandas>=0.24.2->tpot) (2.8.1)\n",
            "Requirement already satisfied: idna<3,>=2.5 in /usr/local/lib/python3.6/dist-packages (from requests>=2.3.0->update-checker>=0.16->tpot) (2.10)\n",
            "Requirement already satisfied: certifi>=2017.4.17 in /usr/local/lib/python3.6/dist-packages (from requests>=2.3.0->update-checker>=0.16->tpot) (2020.12.5)\n",
            "Requirement already satisfied: urllib3!=1.25.0,!=1.25.1,<1.26,>=1.21.1 in /usr/local/lib/python3.6/dist-packages (from requests>=2.3.0->update-checker>=0.16->tpot) (1.24.3)\n",
            "Requirement already satisfied: chardet<4,>=3.0.2 in /usr/local/lib/python3.6/dist-packages (from requests>=2.3.0->update-checker>=0.16->tpot) (3.0.4)\n",
            "Requirement already satisfied: six>=1.5 in /usr/local/lib/python3.6/dist-packages (from python-dateutil>=2.7.3->pandas>=0.24.2->tpot) (1.15.0)\n",
            "Building wheels for collected packages: stopit\n",
            "  Building wheel for stopit (setup.py) ... \u001b[?25l\u001b[?25hdone\n",
            "  Created wheel for stopit: filename=stopit-1.1.2-cp36-none-any.whl size=11954 sha256=b835af3999eb9ed8894a6be88ce2a8b6b88fb2b82bacbbf9c2fd85614d8d3daf\n",
            "  Stored in directory: /root/.cache/pip/wheels/3c/85/2b/2580190404636bfc63e8de3dff629c03bb795021e1983a6cc7\n",
            "Successfully built stopit\n",
            "Installing collected packages: update-checker, xgboost, deap, stopit, tpot\n",
            "  Found existing installation: xgboost 0.90\n",
            "    Uninstalling xgboost-0.90:\n",
            "      Successfully uninstalled xgboost-0.90\n",
            "Successfully installed deap-1.3.1 stopit-1.1.2 tpot-0.11.6.post3 update-checker-0.18.0 xgboost-1.3.0.post0\n"
          ],
          "name": "stdout"
        }
      ]
    },
    {
      "cell_type": "markdown",
      "metadata": {
        "id": "9HJ7IA268q5S"
      },
      "source": [
        "load data "
      ]
    },
    {
      "cell_type": "code",
      "metadata": {
        "id": "rIL6_ivRCTp7"
      },
      "source": [
        "\n",
        "#train_pre2 = pd.read_csv('/content/drive/MyDrive/Finalfinal.csv')\n",
        "\n",
        "\n",
        "train_pre2 = pd.read_csv('/content/drive/MyDrive/Finalfinalplusval.csv')\n",
        "\n",
        "\n",
        "train_pre2 = train_pre2.drop('SubjectID' , axis=1)\n",
        "\n",
        "\n",
        "#size_mapping = {\n",
        "     #   #   'M': 0,\n",
        "       #    'F': 1,\n",
        "        #         }\n",
        "\n",
        "#train_pre2['Sex'] = train_pre2['Sex'].map(size_mapping)\n",
        "\n",
        "features_all = train_pre2.drop('Age', axis=1) #.values\n",
        "target = train_pre2['Age']\n",
        "target = target.values #.reshape(-1,1)\n",
        "\n",
        "features_all.shape"
      ],
      "execution_count": null,
      "outputs": []
    },
    {
      "cell_type": "code",
      "metadata": {
        "id": "uxhZoRrMc_Qh"
      },
      "source": [
        "newdata = pd.read_csv('/content/drive/MyDrive/new.csv')\n",
        "\n",
        "\n",
        "newdata = newdata.drop('SubjectID' , axis=1)\n",
        "newdata.shape\n"
      ],
      "execution_count": null,
      "outputs": []
    },
    {
      "cell_type": "markdown",
      "metadata": {
        "id": "BUiKEED1Chic"
      },
      "source": [
        "# **split**\n"
      ]
    },
    {
      "cell_type": "code",
      "metadata": {
        "id": "uVL_BkASCgpx"
      },
      "source": [
        "\n",
        "X_train, X_test, y_train, y_test = train_test_split(features_all, target,\n",
        "                                                    train_size=0.87, test_size=0.13, random_state=42)"
      ],
      "execution_count": null,
      "outputs": []
    },
    {
      "cell_type": "code",
      "metadata": {
        "colab": {
          "base_uri": "https://localhost:8080/"
        },
        "id": "_SB7MZd-4fKJ",
        "outputId": "99b29906-ae28-45e7-f592-d863a0868834"
      },
      "source": [
        "X_train.shape ,X_test.shape"
      ],
      "execution_count": null,
      "outputs": [
        {
          "output_type": "execute_result",
          "data": {
            "text/plain": [
              "((64, 407), (16, 407))"
            ]
          },
          "metadata": {
            "tags": []
          },
          "execution_count": 16
        }
      ]
    },
    {
      "cell_type": "markdown",
      "metadata": {
        "id": "lSR0rcK2LLBF"
      },
      "source": [
        "# **feature selection **"
      ]
    },
    {
      "cell_type": "code",
      "metadata": {
        "id": "NtcC84G0ZFaI"
      },
      "source": [
        "train_pre2 = pd.read_csv('/content/drive/MyDrive/Finalfinal.csv')\r\n",
        "\r\n",
        "train_pre2 = train_pre2.drop('SubjectID' , axis=1)\r\n",
        "\r\n",
        "\r\n",
        "#size_mapping = {\r\n",
        "     #   #   'M': 0,\r\n",
        "       #    'F': 1,\r\n",
        "        #         }\r\n",
        "\r\n",
        "#train_pre2['Sex'] = train_pre2['Sex'].map(size_mapping)\r\n",
        "\r\n",
        "features_all = train_pre2.drop('Age', axis=1)\r\n",
        "target = train_pre2['Age']\r\n",
        "target = target.values #.reshape(-1,1)\r\n",
        "#target = train_pre.iloc[:,-1]\r\n",
        "#features_all = train_pre.iloc[:,1:428]\r\n",
        "\r\n",
        "#train_pre2.drop('SubjectID', axis=1).values\r\n",
        "\r\n",
        "X_train, X_test, y_train, y_test = train_test_split(features_all, target,   \r\n",
        "                                                   train_size=0.9, test_size=0.1, random_state=42)"
      ],
      "execution_count": null,
      "outputs": []
    },
    {
      "cell_type": "code",
      "metadata": {
        "id": "LzDuWBJp_0TC"
      },
      "source": [
        "\n",
        "features_all = pd.DataFrame(features_all)\n",
        "\n",
        "# creating set to hold the correlated features\n",
        "corr_features = set()\n",
        "\n",
        "# create the correlation matrix (default to pearson)\n",
        "corr_matrix = train_pre2.corr(method='spearman')\n",
        "\n",
        "# optional: display a heatmap of the correlation matrix\n",
        "#plt.figure(figsize=(11,11))\n",
        "#sns.heatmap(corr_matrix)\n",
        "\n",
        "for i in range(len(corr_matrix .columns)):\n",
        "    for j in range(i):\n",
        "        if abs(corr_matrix.iloc[i, j]) > 0.81 :\n",
        "            colname = corr_matrix.columns[i]\n",
        "            corr_features.add(colname)\n",
        "            \n",
        "X_train.drop(labels=corr_features, axis=1, inplace=True)\n",
        "X_test.drop(labels=corr_features, axis=1, inplace=True)"
      ],
      "execution_count": null,
      "outputs": []
    },
    {
      "cell_type": "markdown",
      "metadata": {
        "id": "90C8oZe8EtQg"
      },
      "source": [
        "drop these features from test dataset "
      ]
    },
    {
      "cell_type": "code",
      "metadata": {
        "id": "xwzNU4DgNIb-"
      },
      "source": [
        "newdata.drop(labels=corr_features, axis=1, inplace=True)\r\n",
        "newdata.shape"
      ],
      "execution_count": null,
      "outputs": []
    },
    {
      "cell_type": "markdown",
      "metadata": {
        "id": "55V1TZusP7VC"
      },
      "source": [
        "# **model**"
      ]
    },
    {
      "cell_type": "code",
      "metadata": {
        "id": "cXLKy0lLg8Kp"
      },
      "source": [
        "import numpy as np\n",
        "import pandas as pd\n",
        "from sklearn.linear_model import ElasticNetCV\n",
        "from sklearn.model_selection import train_test_split\n",
        "from sklearn.pipeline import make_pipeline, make_union\n",
        "from tpot.builtins import StackingEstimator\n",
        "from tpot.export_utils import set_param_recursive\n",
        "from sklearn.preprocessing import FunctionTransformer\n",
        "from copy import copy\n",
        "\n",
        "\n",
        "exported_pipeline = make_pipeline(\n",
        "    make_union(\n",
        "        make_union(\n",
        "            FunctionTransformer(copy),\n",
        "            make_union(\n",
        "                make_union(\n",
        "                    FunctionTransformer(copy),\n",
        "                    FunctionTransformer(copy)\n",
        "                ),\n",
        "                FunctionTransformer(copy)\n",
        "            )\n",
        "        ),\n",
        "        make_union(\n",
        "            FunctionTransformer(copy),\n",
        "            FunctionTransformer(copy)\n",
        "        )\n",
        "    ),\n",
        "    ElasticNetCV(l1_ratio=0.15000000000000002, tol=0.1)\n",
        ")\n",
        "\n",
        "set_param_recursive(model.steps, 'random_state', 42)"
      ],
      "execution_count": null,
      "outputs": []
    },
    {
      "cell_type": "markdown",
      "metadata": {
        "id": "oX4TSk9MQMmw"
      },
      "source": [
        "# **over fitting / underfitting**"
      ]
    },
    {
      "cell_type": "markdown",
      "metadata": {
        "id": "nTzbvbKOE6zM"
      },
      "source": [
        "calculate MAE/MSE for train and test dataset to calculate overfitting / underfitting"
      ]
    },
    {
      "cell_type": "code",
      "metadata": {
        "id": "cB8T2zsPQHza"
      },
      "source": [
        "def calc_train_error(X_train, y_train, model):\n",
        "    '''returns in-sample error for already fit model.'''\n",
        "    predictions = model.predict(X_train)\n",
        "    mae = mean_absolute_error(y_train, predictions)\n",
        "    return mae\n",
        "    \n",
        "def calc_validation_error(X_test, y_test, model):\n",
        "    '''returns out-of-sample error for already fit model.'''\n",
        "    predictions1 = model.predict(X_test)\n",
        "    mae = mean_absolute_error(y_test, predictions1)\n",
        "    return mae\n",
        "    \n",
        "def calc_metrics(X_train, y_train, X_test, y_test, model):\n",
        "    '''fits model and returns the RMSE for in-sample error and out-of-sample error'''\n",
        "    model.fit(X_train, y_train)\n",
        "    train_error = calc_train_error(X_train, y_train, model)\n",
        "    validation_error = calc_validation_error(X_test, y_test, model)\n",
        "    return train_error, validation_error\n",
        "\n",
        "\n",
        "\n",
        "\n",
        "train_error, test_error = calc_metrics(X_train, y_train, X_test, y_test, model)\n",
        "train_error, test_error = round(train_error, 3), round(test_error, 3)\n",
        "\n",
        "print('train error: {} | test error: {}'.format(train_error, test_error))\n",
        "print('test/train: {}'.format(round(test_error/train_error, 1)))\n",
        "  "
      ],
      "execution_count": null,
      "outputs": []
    },
    {
      "cell_type": "markdown",
      "metadata": {
        "id": "B5BvYR5BQTeV"
      },
      "source": [
        "# **kfold score**"
      ]
    },
    {
      "cell_type": "code",
      "metadata": {
        "id": "JZ7retBtQOxF"
      },
      "source": [
        "import pandas as pd\n",
        "from numpy import mean\n",
        "from numpy import std\n",
        "from sklearn.model_selection import KFold\n",
        "from sklearn.model_selection import cross_val_score\n",
        "from sklearn.model_selection import cross_val_predict\n",
        "from sklearn.model_selection import LeaveOneOut\n",
        "\n",
        "# prepare the cross-validation procedure\n",
        "cv1 = KFold(n_splits=10, random_state=42, shuffle=True)\n",
        "\n",
        "# LeaveOneOut()\n",
        "\n",
        "# evaluate model\n",
        "scores = cross_val_score(model, X_train, y_train, cv=LeaveOneOut() ,scoring='neg_mean_absolute_error', n_jobs=-1)\n",
        "\n",
        "\n",
        "cv_predicts_k_folds = cross_val_predict(model, features_all, target, cv=10)\n",
        "\n",
        "print(\"Predicted class for each record: {}\".format(cv_predicts_k_folds))\n",
        "print(\"MAE score in each iteration: {}\".format(scores))\n",
        "print(\"K-Fold Score: {}\".format(np.mean(scores)))\n",
        "print('MAE: %.3f (%.3f)' % (mean(scores), std(scores)))"
      ],
      "execution_count": null,
      "outputs": []
    },
    {
      "cell_type": "markdown",
      "metadata": {
        "id": "kD8fBJL-QjJd"
      },
      "source": [
        "# **learning curve**"
      ]
    },
    {
      "cell_type": "markdown",
      "metadata": {
        "id": "Dr_q6wSABb4q"
      },
      "source": [
        "# #1"
      ]
    },
    {
      "cell_type": "code",
      "metadata": {
        "colab": {
          "base_uri": "https://localhost:8080/",
          "height": 760
        },
        "id": "GDbiusmkQcKf",
        "outputId": "f1ff16f4-1ebd-4ef9-fe05-a23a2d15c3b3"
      },
      "source": [
        "import numpy as np\n",
        "from sklearn.model_selection import validation_curve\n",
        "from sklearn.model_selection import learning_curve\n",
        "import matplotlib.pyplot as plt\n",
        "\n",
        "train_sizes, train_scores, valid_scores = learning_curve(model, X_train, y_train, cv=10, scoring='neg_mean_absolute_error', n_jobs=-1, shuffle=True, random_state=42)\n",
        "\n",
        "train_scores_mean = -train_scores.mean(axis = 1)\n",
        "validation_scores_mean = -valid_scores.mean(axis = 1 )\n",
        "print('Mean training scores\\n\\n', pd.Series(train_scores_mean, index = train_sizes))\n",
        "print('\\n', '-' * 20) # separator\n",
        "print('\\nMean validation scores\\n\\n',pd.Series(validation_scores_mean, index = train_sizes))\n",
        "\n",
        "\n",
        "### Plotting the two learning curves ###\n",
        "\n",
        "plt.style.use('seaborn')\n",
        "plt.plot(train_sizes, train_scores_mean, label = 'Training error')\n",
        "plt.plot(train_sizes, validation_scores_mean, label = 'Validation error')\n",
        "plt.ylabel('MAE', fontsize = 14)\n",
        "plt.xlabel('Training set size', fontsize = 14)\n",
        "plt.title('Learning curve ', fontsize = 18, y = 1.03)\n",
        "plt.legend()\n",
        "plt.ylim(0,40)\n"
      ],
      "execution_count": null,
      "outputs": [
        {
          "output_type": "stream",
          "text": [
            "Mean training scores\n",
            "\n",
            " 6     6.254195\n",
            "20    5.235420\n",
            "34    5.380024\n",
            "48    5.590690\n",
            "62    5.494894\n",
            "dtype: float64\n",
            "\n",
            " --------------------\n",
            "\n",
            "Mean validation scores\n",
            "\n",
            " 6     11.758310\n",
            "20     8.208043\n",
            "34     7.521526\n",
            "48     7.249810\n",
            "62     6.780767\n",
            "dtype: float64\n"
          ],
          "name": "stdout"
        },
        {
          "output_type": "execute_result",
          "data": {
            "text/plain": [
              "(0.0, 40.0)"
            ]
          },
          "metadata": {
            "tags": []
          },
          "execution_count": 66
        },
        {
          "output_type": "display_data",
          "data": {
            "image/png": "[encoded data removed]",
            "text/plain": [
              "<Figure size 576x396 with 1 Axes>"
            ]
          },
          "metadata": {
            "tags": []
          }
        }
      ]
    },
    {
      "cell_type": "markdown",
      "metadata": {
        "id": "ZZ6RmTPOBhWj"
      },
      "source": [
        "# #2"
      ]
    },
    {
      "cell_type": "code",
      "metadata": {
        "colab": {
          "base_uri": "https://localhost:8080/",
          "height": 297
        },
        "id": "0nTUL-1uEdzJ",
        "outputId": "c33de769-cda2-42f1-c860-aaefe14d8cf9"
      },
      "source": [
        "from sklearn.model_selection import learning_curve\r\n",
        "import matplotlib.pyplot as plt\r\n",
        "\r\n",
        "# Obtain scores from learning curve function \r\n",
        "# cv is the number of folds while performing Cross Validation \r\n",
        "sizes, training_scores, testing_scores = learning_curve(model, X_train, y_train, cv=10, scoring='neg_mean_absolute_error', train_sizes=np.linspace(0.01, 1.0, 50)) \r\n",
        "\r\n",
        "# Mean and Standard Deviation of training scores \r\n",
        "mean_training = -np.mean(training_scores, axis=1) \r\n",
        "Standard_Deviation_training = -np.std(training_scores, axis=1) \r\n",
        "\r\n",
        "# Mean and Standard Deviation of testing scores \r\n",
        "mean_testing = -np.mean(testing_scores, axis=1) \r\n",
        "Standard_Deviation_testing = -np.std(testing_scores, axis=1) \r\n",
        "\r\n",
        "# dotted blue line is for training scores and green line is for cross-validation score \r\n",
        "plt.plot(sizes, mean_training, '--', color=\"b\", label=\"Training score\") \r\n",
        "plt.plot(sizes, mean_testing, color=\"g\", label=\"Cross-validation score\") \r\n",
        "\r\n",
        "# Standard Deviation of testing scores \r\n",
        "#plt.plot(sizes, Standard_Deviation_training, '--', color=\"b\", label=\"Training score\") \r\n",
        "#plt.plot(sizes, Standard_Deviation_testing, color=\"g\", label=\"Cross-validation score\")\r\n",
        "\r\n",
        "\r\n",
        "# Drawing plot \r\n",
        "plt.title(\"LEARNING CURVE \") \r\n",
        "plt.xlabel(\"Training Set Size\"), plt.ylabel(\"MAE\"), plt.legend(loc=\"best\") \r\n",
        "plt.tight_layout() \r\n",
        "plt.show()\r\n"
      ],
      "execution_count": null,
      "outputs": [
        {
          "output_type": "display_data",
          "data": {
            "image/png": "[encoded data removed]",
            "text/plain": [
              "<Figure size 432x288 with 1 Axes>"
            ]
          },
          "metadata": {
            "tags": [],
            "needs_background": "light"
          }
        }
      ]
    },
    {
      "cell_type": "markdown",
      "metadata": {
        "id": "lZ6_HxxyBjx_"
      },
      "source": [
        "# #3"
      ]
    },
    {
      "cell_type": "code",
      "metadata": {
        "id": "hDPRRpnYATCw"
      },
      "source": [
        "from sklearn.model_selection import learning_curve\r\n",
        "import matplotlib.pyplot as plt\r\n",
        "\r\n",
        "train_sizes, train_scores, valid_scores = learning_curve(model, X_train, y_train, scoring='neg_mean_absolute_error', n_jobs=-1, shuffle=True, random_state=42)\r\n",
        "\r\n",
        "\r\n",
        "\r\n",
        "train_scores_mean = -train_scores.mean(axis = 1)\r\n",
        "validation_scores_mean = -valid_scores.mean(axis = 1 )\r\n",
        "\r\n",
        "\r\n",
        "# Create means and standard deviations of training set scores\r\n",
        "train_mean = -np.mean(train_scores, axis=1)\r\n",
        "train_std = -np.std(train_scores, axis=1)\r\n",
        "\r\n",
        "# Create means and standard deviations of test set scores\r\n",
        "test_mean = -np.mean(valid_scores, axis=1)\r\n",
        "test_std = -np.std(valid_scores, axis=1)\r\n",
        "\r\n",
        "# Draw lines\r\n",
        "plt.plot(train_sizes, train_mean, '--', color=\"#111111\",  label=\"Training score\")\r\n",
        "plt.plot(train_sizes, test_mean, color=\"#111111\", label=\"Cross-validation score\")\r\n",
        "\r\n",
        "# Draw bands\r\n",
        "plt.fill_between(train_sizes, train_mean - train_std, train_mean + train_std, color=\"#DDDDDD\")\r\n",
        "plt.fill_between(train_sizes, test_mean - test_std, test_mean + test_std, color=\"#DDDDDD\")\r\n",
        "\r\n",
        "# Create plot\r\n",
        "plt.title(\"Learning Curve\")\r\n",
        "plt.xlabel(\"Training Set Size\"), plt.ylabel(\"MAE\"), plt.legend(loc=\"best\")\r\n",
        "plt.tight_layout()\r\n",
        "plt.show()"
      ],
      "execution_count": null,
      "outputs": []
    },
    {
      "cell_type": "markdown",
      "metadata": {
        "id": "nM4GgpQ7A30P"
      },
      "source": [
        "# **Validation curve**"
      ]
    },
    {
      "cell_type": "markdown",
      "metadata": {
        "id": "_RI7LI-hBpsj"
      },
      "source": [
        "cv "
      ]
    },
    {
      "cell_type": "code",
      "metadata": {
        "colab": {
          "base_uri": "https://localhost:8080/",
          "height": 513
        },
        "id": "HDGDwU6ab-di",
        "outputId": "2d137d8e-126d-4267-9f79-dfeac11a3740"
      },
      "source": [
        "from sklearn.model_selection import validation_curve\r\n",
        "\r\n",
        "param_range = np.arange(0, 60, 1)\r\n",
        "\r\n",
        "train_scores, test_scores = validation_curve(model,\r\n",
        "                                  X_train, y_train, param_name=\"cv\", param_range=param_range,\r\n",
        "                                  scoring=\"neg_mean_absolute_error\", n_jobs=-1)\r\n",
        "\r\n",
        "train_mean = np.mean(train_scores, axis=1)\r\n",
        "train_std = np.std(train_scores, axis=1)\r\n",
        "\r\n",
        "test_mean = np.mean(test_scores, axis=1)\r\n",
        "test_std = np.std(test_scores, axis=1)\r\n",
        "\r\n",
        "plt.subplots(1, figsize=(7,7))\r\n",
        "plt.plot(param_range, train_mean, label=\"Training score\", color=\"black\")\r\n",
        "plt.plot(param_range, test_mean, label=\"Cross-validation score\", color=\"dimgrey\")\r\n",
        "\r\n",
        "plt.fill_between(param_range, train_mean - train_std, train_mean + train_std, color=\"gray\")\r\n",
        "plt.fill_between(param_range, test_mean - test_std, test_mean + test_std, color=\"gainsboro\")\r\n",
        " \r\n",
        "plt.title(\"Validation Curve \")\r\n",
        "plt.xlabel(\"CV \")\r\n",
        "plt.ylabel(\"MAE\")\r\n",
        "plt.tight_layout()\r\n",
        "plt.legend(loc=\"best\")\r\n",
        "plt.show()"
      ],
      "execution_count": null,
      "outputs": [
        {
          "output_type": "display_data",
          "data": {
            "image/png": "[encoded data removed]",
            "text/plain": [
              "<Figure size 504x504 with 1 Axes>"
            ]
          },
          "metadata": {
            "tags": []
          }
        }
      ]
    },
    {
      "cell_type": "markdown",
      "metadata": {
        "id": "aTNZoCPkBr82"
      },
      "source": [
        "tol"
      ]
    },
    {
      "cell_type": "code",
      "metadata": {
        "colab": {
          "base_uri": "https://localhost:8080/",
          "height": 513
        },
        "id": "LNU87f1VqsXA",
        "outputId": "f794ef5b-2415-4325-d298-41c385495b1c"
      },
      "source": [
        "from sklearn.model_selection import validation_curve\r\n",
        "\r\n",
        "param_range = np.arange(0.14, 0.15, 0.0001)\r\n",
        "\r\n",
        "train_scores, test_scores = validation_curve(model,\r\n",
        "                                  X_train, y_train, param_name=\"tol\", param_range=param_range,\r\n",
        "                                  scoring=\"neg_mean_absolute_error\", n_jobs=-1)\r\n",
        "\r\n",
        "train_mean = np.mean(train_scores, axis=1)\r\n",
        "train_std = np.std(train_scores, axis=1)\r\n",
        "\r\n",
        "test_mean = np.mean(test_scores, axis=1)\r\n",
        "test_std = np.std(test_scores, axis=1)\r\n",
        "\r\n",
        "plt.subplots(1, figsize=(7,7))\r\n",
        "plt.plot(param_range, train_mean, label=\"Training score\", color=\"black\")\r\n",
        "plt.plot(param_range, test_mean, label=\"Cross-validation score\", color=\"dimgrey\")\r\n",
        "\r\n",
        "plt.fill_between(param_range, train_mean - train_std, train_mean + train_std, color=\"gray\")\r\n",
        "plt.fill_between(param_range, test_mean - test_std, test_mean + test_std, color=\"gainsboro\")\r\n",
        " \r\n",
        "plt.title(\"Validation Curve\")\r\n",
        "plt.xlabel(\"tol\")\r\n",
        "plt.ylabel(\"MAE\")\r\n",
        "plt.tight_layout()\r\n",
        "plt.legend(loc=\"best\")\r\n",
        "plt.show()"
      ],
      "execution_count": null,
      "outputs": [
        {
          "output_type": "display_data",
          "data": {
            "image/png": "[encoded data removed]",
            "text/plain": [
              "<Figure size 504x504 with 1 Axes>"
            ]
          },
          "metadata": {
            "tags": []
          }
        }
      ]
    },
    {
      "cell_type": "code",
      "metadata": {
        "colab": {
          "base_uri": "https://localhost:8080/"
        },
        "id": "x8HnJyfVQuLk",
        "outputId": "fca87cbd-7adb-4220-bf7f-7bc8699ec2a1"
      },
      "source": [
        "model.fit(features_all, target)"
      ],
      "execution_count": null,
      "outputs": [
        {
          "output_type": "execute_result",
          "data": {
            "text/plain": [
              "ElasticNetCV(alphas=None, copy_X=True, cv=48, eps=0.001, fit_intercept=True,\n",
              "             l1_ratio=0.7000000000000001, max_iter=1000, n_alphas=100,\n",
              "             n_jobs=None, normalize=False, positive=False, precompute='auto',\n",
              "             random_state=None, selection='cyclic', tol=0.1445, verbose=0)"
            ]
          },
          "metadata": {
            "tags": []
          },
          "execution_count": 106
        }
      ]
    },
    {
      "cell_type": "code",
      "metadata": {
        "colab": {
          "base_uri": "https://localhost:8080/"
        },
        "id": "bpYWmEGvQ9SP",
        "outputId": "c86a17ff-05fd-497a-dc0b-ec813868d1e4"
      },
      "source": [
        "results = model.predict(newdata)\n",
        "results.shape"
      ],
      "execution_count": null,
      "outputs": [
        {
          "output_type": "execute_result",
          "data": {
            "text/plain": [
              "(20,)"
            ]
          },
          "metadata": {
            "tags": []
          },
          "execution_count": 69
        }
      ]
    },
    {
      "cell_type": "code",
      "metadata": {
        "colab": {
          "base_uri": "https://localhost:8080/"
        },
        "id": "mQLTM4HPN6j1",
        "outputId": "fb1e6129-c025-4c22-9366-de39db5d010f"
      },
      "source": [
        "results"
      ],
      "execution_count": null,
      "outputs": [
        {
          "output_type": "execute_result",
          "data": {
            "text/plain": [
              "array([33.44277969, 40.99106218, 52.97777851, 45.75070169, 35.42633148,\n",
              "       30.10594445, 33.34426416, 25.16841858, 47.03522673, 47.61675104,\n",
              "       59.43153658, 35.45050073, 37.60441586, 58.95710981, 53.25606465,\n",
              "       49.31665203, 50.0886556 , 52.74729296, 29.17480128, 44.43011048])"
            ]
          },
          "metadata": {
            "tags": []
          },
          "execution_count": 70
        }
      ]
    },
    {
      "cell_type": "code",
      "metadata": {
        "id": "XPolVaazOC4j"
      },
      "source": [
        "import numpy \n",
        "import pandas as pd\n",
        "numpy.savetxt('data.csv',results ,delimiter=',')"
      ],
      "execution_count": null,
      "outputs": []
    },
    {
      "cell_type": "markdown",
      "metadata": {
        "id": "Tgq5Iw8NByit"
      },
      "source": [
        "GridSearchCV"
      ]
    },
    {
      "cell_type": "code",
      "metadata": {
        "id": "CpF6LzwCi7cp"
      },
      "source": [
        "from sklearn.linear_model import ElasticNet\r\n",
        "from sklearn.model_selection import GridSearchCV\r\n",
        "\r\n",
        "# Use grid search to tune the parameters:\r\n",
        "\r\n",
        "parametersGrid = {\"max_iter\": [1, 5, 10],\r\n",
        "                      \"alpha\": [0.0001, 0.001, 0.01, 0.1, 1, 10, 100],\r\n",
        "                      \"l1_ratio\": np.arange(0.0, 1.0, 0.1)}\r\n",
        "\r\n",
        "eNet = ElasticNet()\r\n",
        "grid = GridSearchCV(eNet, parametersGrid, scoring='neg_mean_absolute_error', cv=10)\r\n",
        "grid.fit(X_train, y_train)\r\n",
        "Y_pred = grid.predict(X_test)"
      ],
      "execution_count": null,
      "outputs": []
    },
    {
      "cell_type": "code",
      "metadata": {
        "colab": {
          "base_uri": "https://localhost:8080/"
        },
        "id": "UUcsnuXMduRt",
        "outputId": "dfeec64b-442d-4241-accc-791fd564d1cd"
      },
      "source": [
        "\r\n",
        "prd= model.predict(X_test)\r\n",
        "from sklearn.metrics import mean_absolute_error\r\n",
        "from sklearn.metrics import mean_squared_error\r\n",
        "\r\n",
        "mean_absolute_error(y_test, prd) , mean_squared_error(y_test, prd)"
      ],
      "execution_count": null,
      "outputs": [
        {
          "output_type": "execute_result",
          "data": {
            "text/plain": [
              "(6.317674755923158, 77.14607607066596)"
            ]
          },
          "metadata": {
            "tags": []
          },
          "execution_count": 135
        }
      ]
    }
  ]
}