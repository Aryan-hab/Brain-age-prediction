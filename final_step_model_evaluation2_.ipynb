{
  "nbformat": 4,
  "nbformat_minor": 0,
  "metadata": {
    "colab": {
      "name": "final step/ model evaluation .ipynb",
      "provenance": [],
      "collapsed_sections": [],
      "mount_file_id": "1PRw0UhY7IwEdvTFj9qrlGfnAbAGnyILR",
      "authorship_tag": "ABX9TyP+xJcF4YrpWOoekXOSPY/x",
      "include_colab_link": true
    },
    "kernelspec": {
      "name": "python3",
      "display_name": "Python 3"
    }
  },
  "cells": [
    {
      "cell_type": "markdown",
      "metadata": {
        "id": "view-in-github",
        "colab_type": "text"
      },
      "source": [
        "<a href=\"https://colab.research.google.com/github/mehrdad117/Brain-Age-prediction-/blob/main/final_step_model_evaluation2_.ipynb\" target=\"_parent\"><img src=\"https://colab.research.google.com/assets/colab-badge.svg\" alt=\"Open In Colab\"/></a>"
      ]
    },
    {
      "cell_type": "code",
      "metadata": {
        "colab": {
          "base_uri": "https://localhost:8080/"
        },
        "id": "pp9cWWiMCJfm",
        "cellView": "form",
        "outputId": "73391f68-9c85-4888-84cf-29a1a987059c"
      },
      "source": [
        "#@title Default title text\n",
        "!pip install tpot\n",
        "from sklearn.metrics import accuracy_score\n",
        "\n",
        "from sklearn.datasets import make_regression\n",
        "from sklearn.model_selection import train_test_split\n",
        "from sklearn.metrics import r2_score\n",
        "from sklearn.datasets import load_boston\n",
        " \n",
        " \n",
        "import pandas as pd #this is how we usually import pandas\n",
        "import numpy as np #this is how we usually import numpy\n",
        " \n",
        "import matplotlib #only needed to determine Matplotlib version number\n",
        "#import tables # pytables is needed to read and write hdf5 files\n",
        "#import openpyxl # is used to read and write MS Excel files\n",
        "import scipy.stats as stats\n",
        "from sklearn.model_selection import train_test_split\n",
        "from sklearn.feature_selection import VarianceThreshold\n",
        "from sklearn.preprocessing import StandardScaler\n",
        "from sklearn.linear_model import LogisticRegression\n",
        "from sklearn.ensemble import RandomForestClassifier\n",
        "from sklearn.metrics import roc_auc_score\n",
        " \n",
        "import xgboost\n",
        " \n",
        "import warnings\n",
        "warnings.filterwarnings('ignore')"
      ],
      "execution_count": 31,
      "outputs": [
        {
          "output_type": "stream",
          "text": [
            "Requirement already satisfied: tpot in /usr/local/lib/python3.6/dist-packages (0.11.6.post3)\n",
            "Requirement already satisfied: tqdm>=4.36.1 in /usr/local/lib/python3.6/dist-packages (from tpot) (4.41.1)\n",
            "Requirement already satisfied: xgboost>=1.1.0 in /usr/local/lib/python3.6/dist-packages (from tpot) (1.3.0.post0)\n",
            "Requirement already satisfied: scipy>=1.3.1 in /usr/local/lib/python3.6/dist-packages (from tpot) (1.4.1)\n",
            "Requirement already satisfied: update-checker>=0.16 in /usr/local/lib/python3.6/dist-packages (from tpot) (0.18.0)\n",
            "Requirement already satisfied: stopit>=1.1.1 in /usr/local/lib/python3.6/dist-packages (from tpot) (1.1.2)\n",
            "Requirement already satisfied: pandas>=0.24.2 in /usr/local/lib/python3.6/dist-packages (from tpot) (1.1.5)\n",
            "Requirement already satisfied: numpy>=1.16.3 in /usr/local/lib/python3.6/dist-packages (from tpot) (1.19.4)\n",
            "Requirement already satisfied: deap>=1.2 in /usr/local/lib/python3.6/dist-packages (from tpot) (1.3.1)\n",
            "Requirement already satisfied: scikit-learn>=0.22.0 in /usr/local/lib/python3.6/dist-packages (from tpot) (0.22.2.post1)\n",
            "Requirement already satisfied: joblib>=0.13.2 in /usr/local/lib/python3.6/dist-packages (from tpot) (1.0.0)\n",
            "Requirement already satisfied: requests>=2.3.0 in /usr/local/lib/python3.6/dist-packages (from update-checker>=0.16->tpot) (2.23.0)\n",
            "Requirement already satisfied: python-dateutil>=2.7.3 in /usr/local/lib/python3.6/dist-packages (from pandas>=0.24.2->tpot) (2.8.1)\n",
            "Requirement already satisfied: pytz>=2017.2 in /usr/local/lib/python3.6/dist-packages (from pandas>=0.24.2->tpot) (2018.9)\n",
            "Requirement already satisfied: chardet<4,>=3.0.2 in /usr/local/lib/python3.6/dist-packages (from requests>=2.3.0->update-checker>=0.16->tpot) (3.0.4)\n",
            "Requirement already satisfied: urllib3!=1.25.0,!=1.25.1,<1.26,>=1.21.1 in /usr/local/lib/python3.6/dist-packages (from requests>=2.3.0->update-checker>=0.16->tpot) (1.24.3)\n",
            "Requirement already satisfied: certifi>=2017.4.17 in /usr/local/lib/python3.6/dist-packages (from requests>=2.3.0->update-checker>=0.16->tpot) (2020.12.5)\n",
            "Requirement already satisfied: idna<3,>=2.5 in /usr/local/lib/python3.6/dist-packages (from requests>=2.3.0->update-checker>=0.16->tpot) (2.10)\n",
            "Requirement already satisfied: six>=1.5 in /usr/local/lib/python3.6/dist-packages (from python-dateutil>=2.7.3->pandas>=0.24.2->tpot) (1.15.0)\n"
          ],
          "name": "stdout"
        }
      ]
    },
    {
      "cell_type": "markdown",
      "metadata": {
        "id": "9HJ7IA268q5S"
      },
      "source": [
        "load data "
      ]
    },
    {
      "cell_type": "code",
      "metadata": {
        "id": "rIL6_ivRCTp7",
        "colab": {
          "base_uri": "https://localhost:8080/"
        },
        "outputId": "78994b13-ea93-4206-9bdb-2b12c56d24bf"
      },
      "source": [
        "\n",
        "#train_pre2 = pd.read_csv('/content/drive/MyDrive/Finalfinal.csv')\n",
        "\n",
        "\n",
        "train_pre2 = pd.read_csv('/content/drive/MyDrive/Finalfinalplusval.csv')\n",
        "\n",
        "\n",
        "train_pre2 = train_pre2.drop('SubjectID' , axis=1)\n",
        "\n",
        "\n",
        "#size_mapping = {\n",
        "     #   #   'M': 0,\n",
        "       #    'F': 1,\n",
        "        #         }\n",
        "\n",
        "#train_pre2['Sex'] = train_pre2['Sex'].map(size_mapping)\n",
        "\n",
        "features_all = train_pre2.drop('Age', axis=1) #.values\n",
        "target = train_pre2['Age']\n",
        "target = target.values #.reshape(-1,1)\n",
        "\n",
        "features_all.shape"
      ],
      "execution_count": 32,
      "outputs": [
        {
          "output_type": "execute_result",
          "data": {
            "text/plain": [
              "(80, 407)"
            ]
          },
          "metadata": {
            "tags": []
          },
          "execution_count": 32
        }
      ]
    },
    {
      "cell_type": "code",
      "metadata": {
        "id": "uxhZoRrMc_Qh",
        "colab": {
          "base_uri": "https://localhost:8080/"
        },
        "outputId": "553efab9-32c3-433a-d8fb-a096953ac2bf"
      },
      "source": [
        "newdata = pd.read_csv('/content/drive/MyDrive/new.csv')\n",
        "\n",
        "\n",
        "newdata = newdata.drop('SubjectID' , axis=1)\n",
        "newdata.shape\n"
      ],
      "execution_count": 71,
      "outputs": [
        {
          "output_type": "execute_result",
          "data": {
            "text/plain": [
              "(20, 407)"
            ]
          },
          "metadata": {
            "tags": []
          },
          "execution_count": 71
        }
      ]
    },
    {
      "cell_type": "markdown",
      "metadata": {
        "id": "BUiKEED1Chic"
      },
      "source": [
        "# **split**\n"
      ]
    },
    {
      "cell_type": "code",
      "metadata": {
        "id": "uVL_BkASCgpx"
      },
      "source": [
        "\n",
        "X_train, X_test, y_train, y_test = train_test_split(features_all, target,\n",
        "                                                    train_size=0.88, test_size=0.12, random_state=42)"
      ],
      "execution_count": 68,
      "outputs": []
    },
    {
      "cell_type": "code",
      "metadata": {
        "colab": {
          "base_uri": "https://localhost:8080/"
        },
        "id": "_SB7MZd-4fKJ",
        "outputId": "78a5889a-a7ea-4465-90de-fb0d61ef82d3"
      },
      "source": [
        "X_train.shape ,X_test.shape"
      ],
      "execution_count": 45,
      "outputs": [
        {
          "output_type": "execute_result",
          "data": {
            "text/plain": [
              "((70, 407), (10, 407))"
            ]
          },
          "metadata": {
            "tags": []
          },
          "execution_count": 45
        }
      ]
    },
    {
      "cell_type": "markdown",
      "metadata": {
        "id": "lSR0rcK2LLBF"
      },
      "source": [
        "# **feature selection **"
      ]
    },
    {
      "cell_type": "code",
      "metadata": {
        "id": "LzDuWBJp_0TC",
        "colab": {
          "base_uri": "https://localhost:8080/"
        },
        "outputId": "6618447a-cae3-4013-e78e-821b5bc1044e"
      },
      "source": [
        "\n",
        "features_all = pd.DataFrame(features_all)\n",
        "\n",
        "# creating set to hold the correlated features\n",
        "corr_features = set()\n",
        "\n",
        "# create the correlation matrix (default to pearson)\n",
        "corr_matrix = train_pre2.corr(method='spearman')\n",
        "\n",
        "# optional: display a heatmap of the correlation matrix\n",
        "#plt.figure(figsize=(11,11))\n",
        "#sns.heatmap(corr_matrix)\n",
        "\n",
        "for i in range(len(corr_matrix .columns)):\n",
        "    for j in range(i):\n",
        "        if abs(corr_matrix.iloc[i, j]) > 0.8 :\n",
        "            colname = corr_matrix.columns[i]\n",
        "            corr_features.add(colname)\n",
        "            \n",
        "X_train.drop(labels=corr_features, axis=1, inplace=True)\n",
        "X_test.drop(labels=corr_features, axis=1, inplace=True)\n",
        "\n",
        "X_test.shape, X_train.shape"
      ],
      "execution_count": 69,
      "outputs": [
        {
          "output_type": "execute_result",
          "data": {
            "text/plain": [
              "((10, 247), (70, 247))"
            ]
          },
          "metadata": {
            "tags": []
          },
          "execution_count": 69
        }
      ]
    },
    {
      "cell_type": "markdown",
      "metadata": {
        "id": "90C8oZe8EtQg"
      },
      "source": [
        "drop these features from test dataset "
      ]
    },
    {
      "cell_type": "code",
      "metadata": {
        "id": "xwzNU4DgNIb-",
        "colab": {
          "base_uri": "https://localhost:8080/"
        },
        "outputId": "4a77c31e-74a8-4080-df24-5da75d2b28e9"
      },
      "source": [
        "newdata.drop(labels=corr_features, axis=1, inplace=True)\r\n",
        "newdata.shape"
      ],
      "execution_count": 72,
      "outputs": [
        {
          "output_type": "execute_result",
          "data": {
            "text/plain": [
              "(20, 247)"
            ]
          },
          "metadata": {
            "tags": []
          },
          "execution_count": 72
        }
      ]
    },
    {
      "cell_type": "markdown",
      "metadata": {
        "id": "55V1TZusP7VC"
      },
      "source": [
        "# **model**"
      ]
    },
    {
      "cell_type": "code",
      "metadata": {
        "id": "cXLKy0lLg8Kp"
      },
      "source": [
        "import numpy as np\n",
        "import pandas as pd\n",
        "from sklearn.linear_model import ElasticNetCV\n",
        "from sklearn.model_selection import train_test_split\n",
        "\n",
        "model =   ElasticNetCV(l1_ratio=0.7000000000000001, tol=0.0001)\n",
        "\n",
        "#model =  ElasticNetCV(l1_ratio=0.7000000000000001, tol=0.146, cv=30)\n"
      ],
      "execution_count": 38,
      "outputs": []
    },
    {
      "cell_type": "markdown",
      "metadata": {
        "id": "oX4TSk9MQMmw"
      },
      "source": [
        "# **over fitting / underfitting**"
      ]
    },
    {
      "cell_type": "markdown",
      "metadata": {
        "id": "nTzbvbKOE6zM"
      },
      "source": [
        "calculate MAE/MSE for train and test dataset to calculate overfitting / underfitting"
      ]
    },
    {
      "cell_type": "code",
      "metadata": {
        "id": "cB8T2zsPQHza",
        "colab": {
          "base_uri": "https://localhost:8080/"
        },
        "outputId": "41af5eec-2092-4d8c-8cce-df2570e7e3a2"
      },
      "source": [
        "from sklearn.metrics import mean_absolute_error\n",
        "from sklearn.metrics import mean_squared_error\n",
        "\n",
        "def calc_train_error(X_train, y_train, model):\n",
        "    '''returns in-sample error for already fit model.'''\n",
        "    predictions = model.predict(X_train)\n",
        "    mae = mean_absolute_error(y_train, predictions)\n",
        "    return mae\n",
        "    \n",
        "def calc_validation_error(X_test, y_test, model):\n",
        "    '''returns out-of-sample error for already fit model.'''\n",
        "    predictions1 = model.predict(X_test)\n",
        "    mae = mean_absolute_error(y_test, predictions1)\n",
        "    return mae\n",
        "    \n",
        "def calc_metrics(X_train, y_train, X_test, y_test, model):\n",
        "    '''fits model and returns the RMSE for in-sample error and out-of-sample error'''\n",
        "    model.fit(X_train, y_train)\n",
        "    train_error = calc_train_error(X_train, y_train, model)\n",
        "    validation_error = calc_validation_error(X_test, y_test, model)\n",
        "    return train_error, validation_error\n",
        "\n",
        "\n",
        "\n",
        "\n",
        "train_error, test_error = calc_metrics(X_train, y_train, X_test, y_test, model)\n",
        "train_error, test_error = round(train_error, 3), round(test_error, 3)\n",
        "\n",
        "print('train error: {} | test error: {}'.format(train_error, test_error))\n",
        "print('test/train: {}'.format(round(test_error/train_error, 1)))\n",
        "  "
      ],
      "execution_count": 57,
      "outputs": [
        {
          "output_type": "stream",
          "text": [
            "train error: 5.529 | test error: 5.9\n",
            "test/train: 1.1\n"
          ],
          "name": "stdout"
        }
      ]
    },
    {
      "cell_type": "markdown",
      "metadata": {
        "id": "B5BvYR5BQTeV"
      },
      "source": [
        "# **kfold score**"
      ]
    },
    {
      "cell_type": "code",
      "metadata": {
        "id": "JZ7retBtQOxF",
        "colab": {
          "base_uri": "https://localhost:8080/"
        },
        "outputId": "9d0511c5-c8d9-4c1d-91d3-42059f111d7b"
      },
      "source": [
        "import pandas as pd\n",
        "from numpy import mean\n",
        "from numpy import std\n",
        "from sklearn.model_selection import KFold\n",
        "from sklearn.model_selection import cross_val_score\n",
        "from sklearn.model_selection import cross_val_predict\n",
        "from sklearn.model_selection import LeaveOneOut\n",
        "\n",
        "# prepare the cross-validation procedure\n",
        "cv1 = KFold(n_splits=10, random_state=42, shuffle=True)\n",
        "\n",
        "# LeaveOneOut()\n",
        "\n",
        "# evaluate model\n",
        "scores = cross_val_score(model, X_train, y_train, cv=LeaveOneOut() ,scoring='neg_mean_absolute_error', n_jobs=-1)\n",
        "\n",
        "\n",
        "cv_predicts_k_folds = cross_val_predict(model, X_train, y_train, cv=10)\n",
        "\n",
        "print(\"Predicted class for each record: {}\".format(cv_predicts_k_folds))\n",
        "print(\"MAE score in each iteration: {}\".format(scores))\n",
        "print(\"K-Fold Score: {}\".format(np.mean(scores)))\n",
        "print('MAE: %.3f (%.3f)' % (mean(scores), std(scores)))"
      ],
      "execution_count": 58,
      "outputs": [
        {
          "output_type": "stream",
          "text": [
            "Predicted class for each record: [38.2474726  55.3156152  23.96335295 29.25453428 55.34098051 28.87492004\n",
            " 62.45268548 44.00919115 51.06297726 66.00924544 44.93905229 36.95676617\n",
            " 38.71309403 26.87156307 53.00625603 45.05570354 31.23945245 38.53728898\n",
            " 37.22454571 52.60805233 49.57920416 48.33456413 41.68037064 35.51220525\n",
            " 64.86361147 37.71267414 33.92671916 41.87147711 40.31497179 51.24041428\n",
            " 50.4780503  47.82243694 29.8762062  55.2330792  43.83659244 29.87027499\n",
            " 43.79526517 43.18832859 35.46448967 44.55161492 49.12342656 29.15121242\n",
            " 51.85838014 56.88776801 39.10188479 50.62310397 50.34087116 40.09826261\n",
            " 47.4062007  55.29582204 54.7225215  50.42492478 52.27627849 53.36324214\n",
            " 26.66684969 44.47910674 51.32354201 65.80975226 52.96258141 77.36416515\n",
            " 45.40666374 51.97850891 36.13690311 51.5453885  55.27216309 42.55035885\n",
            " 26.8200674  33.20494479 56.21340449 20.10388515]\n",
            "MAE score in each iteration: [ -8.90665543  -5.02243423  -1.02716087  -4.61172625  -1.84190098\n",
            "  -0.10213755  -3.63867864  -4.79998092  -9.19609146  -3.01951439\n",
            "  -6.07813518  -5.64459501 -12.13707233  -7.42636388 -16.64841477\n",
            "  -5.07940931  -1.59490997 -16.63582429  -6.09141399  -0.77718589\n",
            "  -4.23561269 -15.7824931   -3.4488888  -16.39675845  -1.2033829\n",
            "  -1.40471211  -2.78630715  -9.99864655 -16.24654194  -7.65407574\n",
            "  -1.71298208  -0.55065434  -4.92463916  -8.70359497  -7.40191582\n",
            "  -7.9175861   -2.8921117   -4.27556562 -10.2765831   -3.92126095\n",
            "  -2.00895097  -1.8693675   -0.59197367  -6.08974553  -7.01004858\n",
            "  -0.28973089 -17.31388598  -9.13568241  -8.10510506  -4.32407101\n",
            "  -0.40137884  -1.15850921  -2.80767881  -6.0586187   -6.22278864\n",
            "  -0.83664853 -13.35320029  -4.3233151  -12.37813256 -12.48858621\n",
            " -10.46029315  -5.06782657 -15.6781209  -16.44238776  -4.28027429\n",
            "  -2.99151559  -3.03246348 -11.06996329 -16.49403889  -8.34660867]\n",
            "K-Fold Score: -6.6092118528181265\n",
            "MAE: -6.609 (4.999)\n"
          ],
          "name": "stdout"
        }
      ]
    },
    {
      "cell_type": "markdown",
      "metadata": {
        "id": "kD8fBJL-QjJd"
      },
      "source": [
        "# **learning curve**"
      ]
    },
    {
      "cell_type": "markdown",
      "metadata": {
        "id": "Dr_q6wSABb4q"
      },
      "source": [
        "# #1"
      ]
    },
    {
      "cell_type": "code",
      "metadata": {
        "colab": {
          "base_uri": "https://localhost:8080/",
          "height": 760
        },
        "id": "GDbiusmkQcKf",
        "outputId": "5d3cf0ed-b283-46ae-80ce-89ebd5627eac"
      },
      "source": [
        "import numpy as np\n",
        "from sklearn.model_selection import validation_curve\n",
        "from sklearn.model_selection import learning_curve\n",
        "import matplotlib.pyplot as plt\n",
        "\n",
        "train_sizes, train_scores, valid_scores = learning_curve(model, X_train, y_train, cv=10, scoring='neg_mean_absolute_error', n_jobs=-1, shuffle=True, random_state=42)\n",
        "\n",
        "train_scores_mean = -train_scores.mean(axis = 1)\n",
        "validation_scores_mean = -valid_scores.mean(axis = 1 )\n",
        "print('Mean training scores\\n\\n', pd.Series(train_scores_mean, index = train_sizes))\n",
        "print('\\n', '-' * 20) # separator\n",
        "print('\\nMean validation scores\\n\\n',pd.Series(validation_scores_mean, index = train_sizes))\n",
        "\n",
        "\n",
        "### Plotting the two learning curves ###\n",
        "\n",
        "plt.style.use('seaborn')\n",
        "plt.plot(train_sizes, train_scores_mean, label = 'Training error')\n",
        "plt.plot(train_sizes, validation_scores_mean, label = 'Validation error')\n",
        "plt.ylabel('MAE', fontsize = 14)\n",
        "plt.xlabel('Training set size', fontsize = 14)\n",
        "plt.title('Learning curve ', fontsize = 18, y = 1.03)\n",
        "plt.legend()\n",
        "plt.ylim(0,40)\n"
      ],
      "execution_count": 59,
      "outputs": [
        {
          "output_type": "stream",
          "text": [
            "Mean training scores\n",
            "\n",
            " 6     5.756296\n",
            "20    5.314196\n",
            "34    5.124778\n",
            "48    5.336638\n",
            "63    5.509782\n",
            "dtype: float64\n",
            "\n",
            " --------------------\n",
            "\n",
            "Mean validation scores\n",
            "\n",
            " 6     12.166099\n",
            "20     7.960102\n",
            "34     7.522861\n",
            "48     7.030584\n",
            "63     6.454694\n",
            "dtype: float64\n"
          ],
          "name": "stdout"
        },
        {
          "output_type": "execute_result",
          "data": {
            "text/plain": [
              "(0.0, 40.0)"
            ]
          },
          "metadata": {
            "tags": []
          },
          "execution_count": 59
        },
        {
          "output_type": "display_data",
          "data": {
            "image/png": "[encoded data removed]",
            "text/plain": [
              "<Figure size 576x396 with 1 Axes>"
            ]
          },
          "metadata": {
            "tags": []
          }
        }
      ]
    },
    {
      "cell_type": "markdown",
      "metadata": {
        "id": "ZZ6RmTPOBhWj"
      },
      "source": [
        "# #2"
      ]
    },
    {
      "cell_type": "code",
      "metadata": {
        "colab": {
          "base_uri": "https://localhost:8080/",
          "height": 405
        },
        "id": "0nTUL-1uEdzJ",
        "outputId": "2bc67088-209e-4156-8d08-78dbec44e496"
      },
      "source": [
        "from sklearn.model_selection import learning_curve\r\n",
        "import matplotlib.pyplot as plt\r\n",
        "\r\n",
        "# Obtain scores from learning curve function \r\n",
        "# cv is the number of folds while performing Cross Validation \r\n",
        "sizes, training_scores, testing_scores = learning_curve(model, X_train, y_train, cv=10, scoring='neg_mean_absolute_error', train_sizes=np.linspace(0.01, 1.0, 50)) \r\n",
        "\r\n",
        "# Mean and Standard Deviation of training scores \r\n",
        "mean_training = -np.mean(training_scores, axis=1) \r\n",
        "Standard_Deviation_training = -np.std(training_scores, axis=1) \r\n",
        "\r\n",
        "# Mean and Standard Deviation of testing scores \r\n",
        "mean_testing = -np.mean(testing_scores, axis=1) \r\n",
        "Standard_Deviation_testing = -np.std(testing_scores, axis=1) \r\n",
        "\r\n",
        "# dotted blue line is for training scores and green line is for cross-validation score \r\n",
        "plt.plot(sizes, mean_training, '--', color=\"b\", label=\"Training score\") \r\n",
        "plt.plot(sizes, mean_testing, color=\"g\", label=\"Cross-validation score\") \r\n",
        "\r\n",
        "# Standard Deviation of testing scores \r\n",
        "#plt.plot(sizes, Standard_Deviation_training, '--', color=\"b\", label=\"Training score\") \r\n",
        "#plt.plot(sizes, Standard_Deviation_testing, color=\"g\", label=\"Cross-validation score\")\r\n",
        "\r\n",
        "\r\n",
        "# Drawing plot \r\n",
        "plt.title(\"LEARNING CURVE \") \r\n",
        "plt.xlabel(\"Training Set Size\"), plt.ylabel(\"MAE\"), plt.legend(loc=\"best\") \r\n",
        "plt.tight_layout() \r\n",
        "plt.show()\r\n"
      ],
      "execution_count": 51,
      "outputs": [
        {
          "output_type": "display_data",
          "data": {
            "image/png": "[encoded data removed]",
            "text/plain": [
              "<Figure size 576x396 with 1 Axes>"
            ]
          },
          "metadata": {
            "tags": []
          }
        }
      ]
    },
    {
      "cell_type": "markdown",
      "metadata": {
        "id": "lZ6_HxxyBjx_"
      },
      "source": [
        "# #3"
      ]
    },
    {
      "cell_type": "code",
      "metadata": {
        "id": "hDPRRpnYATCw",
        "colab": {
          "base_uri": "https://localhost:8080/",
          "height": 405
        },
        "outputId": "0ec1b0fa-5905-482a-80e8-940436512d87"
      },
      "source": [
        "from sklearn.model_selection import learning_curve\r\n",
        "import matplotlib.pyplot as plt\r\n",
        "\r\n",
        "train_sizes, train_scores, valid_scores = learning_curve(model, X_train, y_train, scoring='neg_mean_absolute_error', n_jobs=-1, shuffle=True, random_state=42)\r\n",
        "\r\n",
        "\r\n",
        "\r\n",
        "train_scores_mean = -train_scores.mean(axis = 1)\r\n",
        "validation_scores_mean = -valid_scores.mean(axis = 1 )\r\n",
        "\r\n",
        "\r\n",
        "# Create means and standard deviations of training set scores\r\n",
        "train_mean = -np.mean(train_scores, axis=1)\r\n",
        "train_std = -np.std(train_scores, axis=1)\r\n",
        "\r\n",
        "# Create means and standard deviations of test set scores\r\n",
        "test_mean = -np.mean(valid_scores, axis=1)\r\n",
        "test_std = -np.std(valid_scores, axis=1)\r\n",
        "\r\n",
        "# Draw lines\r\n",
        "plt.plot(train_sizes, train_mean, '--', color=\"#111111\",  label=\"Training score\")\r\n",
        "plt.plot(train_sizes, test_mean, color=\"#111111\", label=\"Cross-validation score\")\r\n",
        "\r\n",
        "# Draw bands\r\n",
        "plt.fill_between(train_sizes, train_mean - train_std, train_mean + train_std, color=\"#DDDDDD\")\r\n",
        "plt.fill_between(train_sizes, test_mean - test_std, test_mean + test_std, color=\"#DDDDDD\")\r\n",
        "\r\n",
        "# Create plot\r\n",
        "plt.title(\"Learning Curve\")\r\n",
        "plt.xlabel(\"Training Set Size\"), plt.ylabel(\"MAE\"), plt.legend(loc=\"best\")\r\n",
        "plt.tight_layout()\r\n",
        "plt.show()"
      ],
      "execution_count": 52,
      "outputs": [
        {
          "output_type": "display_data",
          "data": {
            "image/png": "[encoded data removed]",
            "text/plain": [
              "<Figure size 576x396 with 1 Axes>"
            ]
          },
          "metadata": {
            "tags": []
          }
        }
      ]
    },
    {
      "cell_type": "markdown",
      "metadata": {
        "id": "nM4GgpQ7A30P"
      },
      "source": [
        "# **Validation curve**"
      ]
    },
    {
      "cell_type": "markdown",
      "metadata": {
        "id": "_RI7LI-hBpsj"
      },
      "source": [
        "cv "
      ]
    },
    {
      "cell_type": "code",
      "metadata": {
        "colab": {
          "base_uri": "https://localhost:8080/",
          "height": 513
        },
        "id": "HDGDwU6ab-di",
        "outputId": "62d625b7-6bbe-4971-cf76-9f4816f8e69a"
      },
      "source": [
        "from sklearn.model_selection import validation_curve\r\n",
        "\r\n",
        "param_range = np.arange(0, 60, 1)\r\n",
        "\r\n",
        "train_scores, test_scores = validation_curve(model,\r\n",
        "                                  X_train, y_train, param_name=\"cv\", param_range=param_range,\r\n",
        "                                  scoring=\"neg_mean_absolute_error\", n_jobs=-1)\r\n",
        "\r\n",
        "train_mean = np.mean(train_scores, axis=1)\r\n",
        "train_std = np.std(train_scores, axis=1)\r\n",
        "\r\n",
        "test_mean = np.mean(test_scores, axis=1)\r\n",
        "test_std = np.std(test_scores, axis=1)\r\n",
        "\r\n",
        "plt.subplots(1, figsize=(7,7))\r\n",
        "plt.plot(param_range, train_mean, label=\"Training score\", color=\"black\")\r\n",
        "plt.plot(param_range, test_mean, label=\"Cross-validation score\", color=\"dimgrey\")\r\n",
        "\r\n",
        "plt.fill_between(param_range, train_mean - train_std, train_mean + train_std, color=\"gray\")\r\n",
        "plt.fill_between(param_range, test_mean - test_std, test_mean + test_std, color=\"gainsboro\")\r\n",
        " \r\n",
        "plt.title(\"Validation Curve \")\r\n",
        "plt.xlabel(\"CV \")\r\n",
        "plt.ylabel(\"MAE\")\r\n",
        "plt.tight_layout()\r\n",
        "plt.legend(loc=\"best\")\r\n",
        "plt.show()"
      ],
      "execution_count": 60,
      "outputs": [
        {
          "output_type": "display_data",
          "data": {
            "image/png": "[encoded data removed]",
            "text/plain": [
              "<Figure size 504x504 with 1 Axes>"
            ]
          },
          "metadata": {
            "tags": []
          }
        }
      ]
    },
    {
      "cell_type": "markdown",
      "metadata": {
        "id": "aTNZoCPkBr82"
      },
      "source": [
        "tol"
      ]
    },
    {
      "cell_type": "code",
      "metadata": {
        "colab": {
          "base_uri": "https://localhost:8080/",
          "height": 513
        },
        "id": "LNU87f1VqsXA",
        "outputId": "69e62cb6-de30-49bd-e136-931c850d2819"
      },
      "source": [
        "from sklearn.model_selection import validation_curve\r\n",
        "\r\n",
        "param_range = np.arange(0.14, 0.15, 0.0001)\r\n",
        "\r\n",
        "train_scores, test_scores = validation_curve(model,\r\n",
        "                                  X_train, y_train, param_name=\"tol\", param_range=param_range,\r\n",
        "                                  scoring=\"neg_mean_absolute_error\", n_jobs=-1)\r\n",
        "\r\n",
        "train_mean = np.mean(train_scores, axis=1)\r\n",
        "train_std = np.std(train_scores, axis=1)\r\n",
        "\r\n",
        "test_mean = np.mean(test_scores, axis=1)\r\n",
        "test_std = np.std(test_scores, axis=1)\r\n",
        "\r\n",
        "plt.subplots(1, figsize=(7,7))\r\n",
        "plt.plot(param_range, train_mean, label=\"Training score\", color=\"black\")\r\n",
        "plt.plot(param_range, test_mean, label=\"Cross-validation score\", color=\"dimgrey\")\r\n",
        "\r\n",
        "plt.fill_between(param_range, train_mean - train_std, train_mean + train_std, color=\"gray\")\r\n",
        "plt.fill_between(param_range, test_mean - test_std, test_mean + test_std, color=\"gainsboro\")\r\n",
        " \r\n",
        "plt.title(\"Validation Curve\")\r\n",
        "plt.xlabel(\"tol\")\r\n",
        "plt.ylabel(\"MAE\")\r\n",
        "plt.tight_layout()\r\n",
        "plt.legend(loc=\"best\")\r\n",
        "plt.show()"
      ],
      "execution_count": 61,
      "outputs": [
        {
          "output_type": "display_data",
          "data": {
            "image/png": "[encoded data removed]",
            "text/plain": [
              "<Figure size 504x504 with 1 Axes>"
            ]
          },
          "metadata": {
            "tags": []
          }
        }
      ]
    },
    {
      "cell_type": "code",
      "metadata": {
        "colab": {
          "base_uri": "https://localhost:8080/"
        },
        "id": "x8HnJyfVQuLk",
        "outputId": "551d55e9-fa13-43d0-f0fb-c65e5cabffae"
      },
      "source": [
        "#model.fit(features_all, target)\r\n",
        "\r\n",
        "model.fit(X_train, y_train)"
      ],
      "execution_count": 76,
      "outputs": [
        {
          "output_type": "execute_result",
          "data": {
            "text/plain": [
              "ElasticNetCV(alphas=None, copy_X=True, cv=None, eps=0.001, fit_intercept=True,\n",
              "             l1_ratio=0.7000000000000001, max_iter=1000, n_alphas=100,\n",
              "             n_jobs=None, normalize=False, positive=False, precompute='auto',\n",
              "             random_state=None, selection='cyclic', tol=0.0001, verbose=0)"
            ]
          },
          "metadata": {
            "tags": []
          },
          "execution_count": 76
        }
      ]
    },
    {
      "cell_type": "code",
      "metadata": {
        "colab": {
          "base_uri": "https://localhost:8080/"
        },
        "id": "bpYWmEGvQ9SP",
        "outputId": "35efe9e3-2a02-490e-c51b-c0afecbd233b"
      },
      "source": [
        "results = model.predict(newdata)\n",
        "results.shape"
      ],
      "execution_count": 77,
      "outputs": [
        {
          "output_type": "execute_result",
          "data": {
            "text/plain": [
              "(20,)"
            ]
          },
          "metadata": {
            "tags": []
          },
          "execution_count": 77
        }
      ]
    },
    {
      "cell_type": "code",
      "metadata": {
        "colab": {
          "base_uri": "https://localhost:8080/"
        },
        "id": "mQLTM4HPN6j1",
        "outputId": "5125b1cf-bad3-4393-ac83-c7c58dcd6257"
      },
      "source": [
        "results"
      ],
      "execution_count": 78,
      "outputs": [
        {
          "output_type": "execute_result",
          "data": {
            "text/plain": [
              "array([26.59778834, 43.6690856 , 43.76424722, 44.73434741, 35.83510685,\n",
              "       31.40352438, 34.63108094, 22.8706318 , 51.6846578 , 50.89316391,\n",
              "       60.89566159, 32.95379777, 33.26444163, 62.69154355, 54.91335367,\n",
              "       54.59510886, 50.59802055, 56.17790168, 27.65176453, 49.40824835])"
            ]
          },
          "metadata": {
            "tags": []
          },
          "execution_count": 78
        }
      ]
    },
    {
      "cell_type": "code",
      "metadata": {
        "id": "XPolVaazOC4j"
      },
      "source": [
        "import numpy \n",
        "import pandas as pd\n",
        "numpy.savetxt('data.csv',results ,delimiter=',')"
      ],
      "execution_count": 79,
      "outputs": []
    },
    {
      "cell_type": "markdown",
      "metadata": {
        "id": "Tgq5Iw8NByit"
      },
      "source": [
        "GridSearchCV"
      ]
    },
    {
      "cell_type": "code",
      "metadata": {
        "id": "CpF6LzwCi7cp"
      },
      "source": [
        "from sklearn.linear_model import ElasticNet\r\n",
        "from sklearn.model_selection import GridSearchCV\r\n",
        "\r\n",
        "# Use grid search to tune the parameters:\r\n",
        "\r\n",
        "parametersGrid = {\"max_iter\": [1, 5, 10],\r\n",
        "                      \"alpha\": [0.0001, 0.001, 0.01, 0.1, 1, 10, 100],\r\n",
        "                      \"l1_ratio\": np.arange(0.0, 1.0, 0.1)}\r\n",
        "\r\n",
        "eNet = ElasticNet()\r\n",
        "grid = GridSearchCV(eNet, parametersGrid, scoring='neg_mean_absolute_error', cv=10)\r\n",
        "grid.fit(X_train, y_train)\r\n",
        "Y_pred = grid.predict(X_test)"
      ],
      "execution_count": null,
      "outputs": []
    },
    {
      "cell_type": "code",
      "metadata": {
        "colab": {
          "base_uri": "https://localhost:8080/"
        },
        "id": "UUcsnuXMduRt",
        "outputId": "dfeec64b-442d-4241-accc-791fd564d1cd"
      },
      "source": [
        "\r\n",
        "prd= model.predict(X_test)\r\n",
        "from sklearn.metrics import mean_absolute_error\r\n",
        "from sklearn.metrics import mean_squared_error\r\n",
        "\r\n",
        "mean_absolute_error(y_test, prd) , mean_squared_error(y_test, prd)"
      ],
      "execution_count": null,
      "outputs": [
        {
          "output_type": "execute_result",
          "data": {
            "text/plain": [
              "(6.317674755923158, 77.14607607066596)"
            ]
          },
          "metadata": {
            "tags": []
          },
          "execution_count": 135
        }
      ]
    }
  ]
}
